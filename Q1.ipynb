{
 "cells": [
  {
   "cell_type": "code",
   "execution_count": 4,
   "metadata": {},
   "outputs": [],
   "source": [
    "import pandas as pd\n",
    "import numpy as np\n",
    "from statsmodels.stats.weightstats import ztest as ztest"
   ]
  },
  {
   "cell_type": "markdown",
   "metadata": {},
   "source": [
    "h0: Null Hypothesis: Monthly Income of Male and Female are same\n",
    "h1: Alternatvie Hypothesis: Monthly Income of Male and Female are different"
   ]
  },
  {
   "cell_type": "code",
   "execution_count": 26,
   "metadata": {},
   "outputs": [
    {
     "name": "stdout",
     "output_type": "stream",
     "text": [
      "Male\n",
      " 1    5130.0\n",
      "2    2090.0\n",
      "4    3468.0\n",
      "5    3068.0\n",
      "7    2693.0\n",
      "Name: MonthlyIncome, dtype: float64\n",
      "Female\n",
      " 0     5993.0\n",
      "3     2909.0\n",
      "6     2670.0\n",
      "11    4193.0\n",
      "15    9980.0\n",
      "Name: MonthlyIncome, dtype: float64\n"
     ]
    }
   ],
   "source": [
    "df= pd.read_csv('WA_Fn-UseC_-HR-Employee-Attrition.csv')\n",
    "\n",
    "x=df['MonthlyIncome'].where(df['Gender']=='Male').dropna()\n",
    "y=df['MonthlyIncome'].where(df['Gender']=='Female').dropna()\n",
    "\n",
    "print(\"Male\\n\",x.head())\n",
    "print(\"Female\\n\",y.head())\n"
   ]
  },
  {
   "cell_type": "code",
   "execution_count": 24,
   "metadata": {},
   "outputs": [
    {
     "name": "stdout",
     "output_type": "stream",
     "text": [
      "(-1.620290730156317, 0.10516983924405839)\n"
     ]
    }
   ],
   "source": [
    "ztests= ztest(x,y, value=100)\n",
    "print(ztests)"
   ]
  },
  {
   "cell_type": "markdown",
   "metadata": {},
   "source": [
    "Since P-value > 0.05, We fail to Reject Null Hypothesis"
   ]
  }
 ],
 "metadata": {
  "kernelspec": {
   "display_name": "base",
   "language": "python",
   "name": "python3"
  },
  "language_info": {
   "codemirror_mode": {
    "name": "ipython",
    "version": 3
   },
   "file_extension": ".py",
   "mimetype": "text/x-python",
   "name": "python",
   "nbconvert_exporter": "python",
   "pygments_lexer": "ipython3",
   "version": "3.11.4"
  },
  "orig_nbformat": 4
 },
 "nbformat": 4,
 "nbformat_minor": 2
}
